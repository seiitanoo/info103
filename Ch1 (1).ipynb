{
 "cells": [
  {
   "cell_type": "markdown",
   "id": "57f591ff-6a31-4ce2-9623-150334414b77",
   "metadata": {},
   "source": [
    "Short Order With Dictionary Dataset"
   ]
  },
  {
   "cell_type": "code",
   "execution_count": 471,
   "id": "df0ba30f-7480-404d-a2a3-2f9346d97be5",
   "metadata": {},
   "outputs": [
    {
     "name": "stdout",
     "output_type": "stream",
     "text": [
      "My order cost 4.77\n",
      "None\n"
     ]
    }
   ],
   "source": [
    "States = {\n",
    "'AmericaE' : 'Pennsylvania',\n",
    "'AmericaS' : 'Texas'\n",
    "}\n",
    "\n",
    "Food = {\n",
    "'Water' : 0.50,\n",
    "'Cheeseburger' : 2.50,\n",
    "'Fries' : 1.50\n",
    "}\n",
    "\n",
    "cost = (Food['Water'] + Food['Cheeseburger'] + Food['Fries'])\n",
    "\n",
    "tax = cost*0.06\n",
    "\n",
    "def totalPrice():\n",
    "    return(cost + tax)\n",
    "    \n",
    "print(\"My order cost\", totalPrice())"
   ]
  },
  {
   "cell_type": "markdown",
   "id": "e083ee90-141f-4f43-b385-b6dcbce634a3",
   "metadata": {},
   "source": [
    "\n",
    "Input and Output | Name"
   ]
  },
  {
   "cell_type": "code",
   "execution_count": 503,
   "id": "3bc1b4fe-aa3e-4524-a157-02042fa929f2",
   "metadata": {},
   "outputs": [
    {
     "name": "stdin",
     "output_type": "stream",
     "text": [
      "Your first name is lucas\n",
      "Your last name is villa\n"
     ]
    },
    {
     "name": "stdout",
     "output_type": "stream",
     "text": [
      "Your full name is lucas villa\n"
     ]
    }
   ],
   "source": [
    "fName = input(\"Your first name is\")\n",
    "lName = input(\"Your last name is\")\n",
    "    \n",
    "def fullName():\n",
    "    print(\"Your full name is\", fName + \" \" + lName)\n",
    "fullName()"
   ]
  },
  {
   "cell_type": "markdown",
   "id": "6a643fa0-037b-4a39-88df-0658b096421f",
   "metadata": {},
   "source": [
    "Input & Output | Number"
   ]
  },
  {
   "cell_type": "code",
   "execution_count": 509,
   "id": "31514404-770f-4e43-9c5e-4f87185b65d6",
   "metadata": {},
   "outputs": [
    {
     "name": "stdin",
     "output_type": "stream",
     "text": [
      "Input radius 332423\n"
     ]
    },
    {
     "name": "stdout",
     "output_type": "stream",
     "text": [
      "664846.0\n"
     ]
    }
   ],
   "source": [
    "cradius = input(\"Input radius\")\n",
    "radius = float(cradius)\n",
    "diameter = 2 * radius\n",
    "\n",
    "print(diameter)"
   ]
  },
  {
   "cell_type": "markdown",
   "id": "6e38360f-e3dc-4f20-bed9-9dcda9af36a2",
   "metadata": {},
   "source": [
    "Control Structures "
   ]
  },
  {
   "cell_type": "code",
   "execution_count": null,
   "id": "7784845c-be1e-4e0b-98bc-3e4c83370131",
   "metadata": {},
   "outputs": [],
   "source": [
    "#1.10\n"
   ]
  }
 ],
 "metadata": {
  "kernelspec": {
   "display_name": "Python 3 (ipykernel)",
   "language": "python",
   "name": "python3"
  },
  "language_info": {
   "codemirror_mode": {
    "name": "ipython",
    "version": 3
   },
   "file_extension": ".py",
   "mimetype": "text/x-python",
   "name": "python",
   "nbconvert_exporter": "python",
   "pygments_lexer": "ipython3",
   "version": "3.8.10"
  },
  "toc-showcode": true
 },
 "nbformat": 4,
 "nbformat_minor": 5
}
